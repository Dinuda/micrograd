{
 "cells": [
  {
   "cell_type": "code",
   "execution_count": 33,
   "id": "cef060ce",
   "metadata": {},
   "outputs": [],
   "source": [
    "import math\n",
    "import numpy as np\n",
    "import matplotlib.pyplot as plt\n",
    "%matplotlib inline"
   ]
  },
  {
   "cell_type": "code",
   "execution_count": 131,
   "id": "8f129bce",
   "metadata": {},
   "outputs": [],
   "source": [
    "class Value:\n",
    "    def __init__(self, data, __children={}, _op=\"\", label=\"\"):\n",
    "        self.data = data\n",
    "        self.grad = 0\n",
    "        self._prev = set(__children)\n",
    "        self._op = _op\n",
    "        self._backward = lambda: None\n",
    "        self.label = label\n",
    "    def __repr__(self):\n",
    "        return f\"Value(data={self.data})\"\n",
    "    def __add__(self, other):\n",
    "        other = other if isinstance(other, Value) else Value(other)\n",
    "        out = Value(self.data + other.data, (self, other), \"+\")\n",
    "        def _backward():\n",
    "            self.grad += 1.0 * out.grad\n",
    "            other.grad += 1.0 * out.grad\n",
    "        out._backward = _backward\n",
    "        return out\n",
    "    def __neg__(self):\n",
    "        return self * -1\n",
    "    def __sub__(self, other):\n",
    "        return self + (-other)\n",
    "    def __rmul__(self, other):\n",
    "        return self * other\n",
    "    def __radd__(self, other): # other + self\n",
    "        return self + other\n",
    "    def __mul__(self, other):\n",
    "        other = other if isinstance(other, Value) else Value(other)\n",
    "        def _backward():\n",
    "            self.grad += out.grad * other.data\n",
    "            other.grad += out.grad * self.data\n",
    "        out = Value(self.data * other.data, (self, other), \"*\")\n",
    "        out._backward = _backward\n",
    "        return out\n",
    "    def __pow__(self, other):\n",
    "        assert isinstance(other, (int, float)), \"only supporting int/floa powers for now\"\n",
    "        out = Value(self.data**other, (self, ), f'**{other}')\n",
    "        \n",
    "        def _backward():\n",
    "            self.grad += other * (self.data ** (other - 1)) * out.grad\n",
    "        out._backward = _backward\n",
    "        return out\n",
    "    def __truediv__(self, other):\n",
    "        other = other if isinstance(other, Value) else Value(other)\n",
    "        return self * other**-1\n",
    "    def tanh(self):\n",
    "        def _backward():\n",
    "            self.grad += (1 - t**2) * out.grad\n",
    "        n = self.data\n",
    "        t = (math.exp(2*n) - 1)/(math.exp(2*n) + 1)\n",
    "        out = Value(t, (self, ), 'tanh')\n",
    "        out._backward = _backward\n",
    "        return out\n",
    "    def exp(self):\n",
    "        def _backward():\n",
    "            self.grad += out.data * out.grad\n",
    "        n = self.data\n",
    "        out = Value(math.exp(n), (self, ), 'exp')\n",
    "        out._backward = _backward\n",
    "        return out\n",
    "    def backward(self):\n",
    "        topo = []\n",
    "        visited = set()\n",
    "        def build_topo(v):\n",
    "            if(v not in visited):\n",
    "                visited.add(v)\n",
    "                for child in v._prev:\n",
    "                    build_topo(child)\n",
    "                topo.append(v)\n",
    "        build_topo(self)\n",
    "        self.grad = 1.0\n",
    "\n",
    "        for node in reversed(topo):\n",
    "            node._backward()"
   ]
  },
  {
   "cell_type": "code",
   "execution_count": 132,
   "id": "68376bce",
   "metadata": {},
   "outputs": [],
   "source": [
    "from graphviz import Digraph\n",
    "\n",
    "def trace(root):\n",
    "    # build a set of all the nodes and edges in a graph\n",
    "    nodes, edges = set(), set()\n",
    "    def build(v):\n",
    "        if(v not in nodes):\n",
    "            nodes.add(v)\n",
    "            for child in v._prev:\n",
    "                edges.add((child, v))\n",
    "                build(child)\n",
    "    build(v=root)\n",
    "    return nodes, edges\n",
    "\n",
    "def draw_dot(root):\n",
    "    dot = Digraph(format='svg', graph_attr={'rankdir': 'LR'})\n",
    "    nodes, edges = trace(root)\n",
    "    for n in nodes:\n",
    "        uid = str(id(n))\n",
    "        dot.node(name = uid, label = \"{ %s | data %.4f | grad %.4f }\" % (n.label, n.data, n.grad), shape='record')\n",
    "        if(n._op):\n",
    "            dot.node(name = uid + n._op, label = n._op)\n",
    "            dot.edge(uid + n._op, uid)\n",
    "    for n1, n2 in edges:\n",
    "        dot.edge(str(id(n1)), str(id(n2)) + n2._op)\n",
    "        \n",
    "    return dot"
   ]
  },
  {
   "cell_type": "code",
   "execution_count": 133,
   "id": "f22cc439",
   "metadata": {},
   "outputs": [
    {
     "name": "stdout",
     "output_type": "stream",
     "text": [
      "0.9991497879990848\n"
     ]
    }
   ],
   "source": [
    "import torch\n",
    "import random\n",
    "\n",
    "x1 = torch.Tensor([2.0]).double(); x1.requires_grad=True\n",
    "w1 = torch.Tensor([0.0]).double(); w1.requires_grad=True\n",
    "x2 = torch.Tensor([-3.0]).double(); x2.requires_grad=True\n",
    "w2 = torch.Tensor([1.0]).double(); w2.requires_grad=True\n",
    "b = torch.Tensor([6.8813735870195432]).double(); b.requires_grad=True\n",
    "\n",
    "n = x1*w1 + x2*w2 + b\n",
    "o = torch.tanh(n)\n",
    "\n",
    "print(o.data.item())\n",
    "o.backward()\n",
    "\n"
   ]
  },
  {
   "cell_type": "code",
   "execution_count": 148,
   "id": "51a9e980",
   "metadata": {},
   "outputs": [],
   "source": [
    "class Neuron:\n",
    "    def __init__(self, nin):\n",
    "        self.w = [Value(random.uniform(-1, 1)) for _ in range(nin)]\n",
    "        self.b = Value(random.uniform(-1, 1)) # bias controlling overall trigger happiness\n",
    "    def __call__(self, x):\n",
    "        wx_zip = zip(self.w, x) #takes 2 iternates and creates a new interator which iterates over tuples of corresponding entries\n",
    "        act = sum((wi*xi for wi, xi in zip(self.w, x)),self.b)\n",
    "        out = act.tanh()\n",
    "        return out\n",
    "    \n",
    "    def parameters(self):\n",
    "        return self.w + [self.b] #list of neurons + list of bias params\n",
    "\n",
    "class Layer:\n",
    "    def __init__(self, nin, nout):\n",
    "        self.neurons = [Neuron(nin) for _ in range(nout)]\n",
    "    def __call__(self, x):\n",
    "        outs = [n(x) for n in self.neurons]\n",
    "        return outs[0] if len(outs) == 1 else outs\n",
    "    def parameters(self):\n",
    "        return [p for neuron in self.neurons for p in neuron.parameters()]\n",
    "    \n",
    "class MLP:\n",
    "    def __init__(self, nin, nouts):\n",
    "        sz = [nin] + nouts\n",
    "        self.layers = [Layer(sz[i], sz[i+1]) for i in range(len(nouts))]\n",
    "                       \n",
    "    def __call__(self, x):\n",
    "        for layer in self.layers:\n",
    "            x = layer(x)\n",
    "        return x\n",
    "    def parameters(self):\n",
    "        return [p for layer in self.layers for p in layer.parameters()]\n",
    "                       "
   ]
  },
  {
   "cell_type": "code",
   "execution_count": 169,
   "id": "34724534",
   "metadata": {},
   "outputs": [
    {
     "data": {
      "text/plain": [
       "Value(data=-0.6632994245955616)"
      ]
     },
     "execution_count": 169,
     "metadata": {},
     "output_type": "execute_result"
    }
   ],
   "source": [
    "x = [2.0, 3.0, -1.0]\n",
    "n = MLP(3, [4, 4, 1])\n",
    "n(x)"
   ]
  },
  {
   "cell_type": "code",
   "execution_count": 170,
   "id": "ede3be9e",
   "metadata": {},
   "outputs": [
    {
     "data": {
      "text/plain": [
       "41"
      ]
     },
     "execution_count": 170,
     "metadata": {},
     "output_type": "execute_result"
    }
   ],
   "source": [
    "len(n.parameters())"
   ]
  },
  {
   "cell_type": "code",
   "execution_count": 327,
   "id": "e6e3632f",
   "metadata": {},
   "outputs": [],
   "source": [
    "xs = [\n",
    "    [2.0, 3.0, -1.0],\n",
    "    [3.0, -1.0, 0.5],\n",
    "    [0.5, 1.0, 1.0],\n",
    "    [1.0, 1.0, -1.0]\n",
    "]\n",
    "\n",
    "ys = [1.0, -1.0, -1.0, 1.0]\n"
   ]
  },
  {
   "cell_type": "code",
   "execution_count": 324,
   "id": "58aa086e",
   "metadata": {},
   "outputs": [],
   "source": [
    "for k in range(20):\n",
    "    ypred = [n(x) for x in xs]\n",
    "    loss = sum((yout - ygt)**2 for ygt, yout in zip(ys, ypred))\n",
    "    \n",
    "    loss.backward()\n",
    "    \n",
    "    for p in n.parameters():\n",
    "        p.data += -0.05 * p.grad \n",
    "    print(k, loss.data)"
   ]
  },
  {
   "cell_type": "code",
   "execution_count": 325,
   "id": "e2c1f065",
   "metadata": {},
   "outputs": [
    {
     "data": {
      "text/plain": [
       "Value(data=1.0341444557376036e-07)"
      ]
     },
     "execution_count": 325,
     "metadata": {},
     "output_type": "execute_result"
    }
   ],
   "source": [
    "loss"
   ]
  },
  {
   "cell_type": "code",
   "execution_count": 319,
   "id": "76aa3fb9",
   "metadata": {},
   "outputs": [],
   "source": [
    "loss.backward()"
   ]
  },
  {
   "cell_type": "code",
   "execution_count": 320,
   "id": "867a1da7",
   "metadata": {},
   "outputs": [
    {
     "data": {
      "text/plain": [
       "-3.4112307757740328"
      ]
     },
     "execution_count": 320,
     "metadata": {},
     "output_type": "execute_result"
    }
   ],
   "source": [
    "n.layers[0].neurons[0].w[0].grad"
   ]
  },
  {
   "cell_type": "code",
   "execution_count": 313,
   "id": "93d9c313",
   "metadata": {},
   "outputs": [
    {
     "data": {
      "text/plain": [
       "-0.9722510133474495"
      ]
     },
     "execution_count": 313,
     "metadata": {},
     "output_type": "execute_result"
    }
   ],
   "source": [
    "n.layers[0].neurons[0].w[0].data"
   ]
  },
  {
   "cell_type": "code",
   "execution_count": 321,
   "id": "1c521edc",
   "metadata": {},
   "outputs": [],
   "source": [
    "for p in n.parameters():\n",
    "    p.data += -0.01 * p.grad "
   ]
  },
  {
   "cell_type": "code",
   "execution_count": 322,
   "id": "60d645ec",
   "metadata": {},
   "outputs": [
    {
     "data": {
      "text/plain": [
       "-0.597020162941484"
      ]
     },
     "execution_count": 322,
     "metadata": {},
     "output_type": "execute_result"
    }
   ],
   "source": [
    "n.layers[0].neurons[0].w[0].data"
   ]
  },
  {
   "cell_type": "code",
   "execution_count": 323,
   "id": "242dbc12",
   "metadata": {},
   "outputs": [
    {
     "data": {
      "text/plain": [
       "[Value(data=0.9931945843300051),\n",
       " Value(data=-0.9990102915057365),\n",
       " Value(data=-0.9997174299044713),\n",
       " Value(data=0.9970237786880947)]"
      ]
     },
     "execution_count": 323,
     "metadata": {},
     "output_type": "execute_result"
    }
   ],
   "source": [
    "ypred"
   ]
  },
  {
   "cell_type": "code",
   "execution_count": 326,
   "id": "b7b1f8b3",
   "metadata": {},
   "outputs": [
    {
     "data": {
      "text/plain": [
       "[Value(data=-0.597020162941484),\n",
       " Value(data=0.10826274153459321),\n",
       " Value(data=-5.353160497517987),\n",
       " Value(data=-1.600328723802943),\n",
       " Value(data=-1.6110130847357076),\n",
       " Value(data=0.014040103488780271),\n",
       " Value(data=-0.15167620084967975),\n",
       " Value(data=-1.0497809739471777),\n",
       " Value(data=-0.7527995734964846),\n",
       " Value(data=0.23189113361341612),\n",
       " Value(data=-0.07068378770316029),\n",
       " Value(data=0.19085055655412),\n",
       " Value(data=-1.034383050292813),\n",
       " Value(data=-0.9782996466317817),\n",
       " Value(data=-0.6105126494622822),\n",
       " Value(data=-0.03525386898952708),\n",
       " Value(data=2.6501595853518047),\n",
       " Value(data=-0.4459685908756743),\n",
       " Value(data=-1.7290083341618057),\n",
       " Value(data=0.03465869610854353),\n",
       " Value(data=-0.29795939511493635),\n",
       " Value(data=-2.450122633651424),\n",
       " Value(data=-0.6497914583550746),\n",
       " Value(data=0.7727488345710019),\n",
       " Value(data=-0.5152552592136894),\n",
       " Value(data=-0.3425239146961989),\n",
       " Value(data=1.5039471960662951),\n",
       " Value(data=-0.21883755881941758),\n",
       " Value(data=0.18338589484877788),\n",
       " Value(data=0.35791376183880025),\n",
       " Value(data=-0.735743357159699),\n",
       " Value(data=1.6137788557146906),\n",
       " Value(data=0.9080621158670228),\n",
       " Value(data=-0.4081153486423344),\n",
       " Value(data=-0.3530230663659458),\n",
       " Value(data=-0.08824514734731202),\n",
       " Value(data=3.052776705708877),\n",
       " Value(data=-1.504956518448212),\n",
       " Value(data=-0.07569123662834304),\n",
       " Value(data=0.7671405657768613),\n",
       " Value(data=-0.23436332217808215)]"
      ]
     },
     "execution_count": 326,
     "metadata": {},
     "output_type": "execute_result"
    }
   ],
   "source": [
    "n.parameters()"
   ]
  },
  {
   "cell_type": "code",
   "execution_count": null,
   "id": "593596f1",
   "metadata": {},
   "outputs": [],
   "source": []
  }
 ],
 "metadata": {
  "kernelspec": {
   "display_name": "Python 3 (ipykernel)",
   "language": "python",
   "name": "python3"
  },
  "language_info": {
   "codemirror_mode": {
    "name": "ipython",
    "version": 3
   },
   "file_extension": ".py",
   "mimetype": "text/x-python",
   "name": "python",
   "nbconvert_exporter": "python",
   "pygments_lexer": "ipython3",
   "version": "3.11.5"
  }
 },
 "nbformat": 4,
 "nbformat_minor": 5
}
